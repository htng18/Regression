{
 "cells": [
  {
   "cell_type": "markdown",
   "id": "03910818",
   "metadata": {},
   "source": [
    "# Prediction of the price of airbnb using ML methods"
   ]
  },
  {
   "cell_type": "markdown",
   "id": "9310a95b",
   "metadata": {},
   "source": [
    "Dataset: https://www.kaggle.com/datasets/kritikseth/us-airbnb-open-data\n",
    "\n",
    "We study the price of airbnb in US 2020 using the ML methods which are lightgbm and xgboost, respectively. We compare their performance."
   ]
  },
  {
   "cell_type": "code",
   "execution_count": 1,
   "id": "b3e4300f",
   "metadata": {},
   "outputs": [],
   "source": [
    "import pandas as pd\n",
    "import numpy as np\n",
    "from sklearn.pipeline import Pipeline\n",
    "from sklearn.model_selection import RandomizedSearchCV\n",
    "from sklearn.metrics import mean_squared_error, r2_score, mean_absolute_error, make_scorer\n",
    "import xgboost as xgb\n",
    "import lightgbm as lgb\n",
    "\n",
    "import warnings\n",
    "warnings.filterwarnings('ignore')"
   ]
  },
  {
   "cell_type": "markdown",
   "id": "2d777bbb",
   "metadata": {},
   "source": [
    "Load data"
   ]
  },
  {
   "cell_type": "code",
   "execution_count": 2,
   "id": "4b614a8d",
   "metadata": {},
   "outputs": [],
   "source": [
    "train_X = pd.read_csv('train_X.csv', index_col=0)\n",
    "test_X = pd.read_csv('test_X.csv', index_col=0)\n",
    "val_X = pd.read_csv('val_X.csv', index_col=0)\n",
    "\n",
    "train_y = pd.read_csv('train_y.csv', index_col=0)\n",
    "test_y = pd.read_csv('test_y.csv', index_col=0)\n",
    "val_y = pd.read_csv('val_y.csv', index_col=0)"
   ]
  },
  {
   "cell_type": "markdown",
   "id": "e33b6647",
   "metadata": {},
   "source": [
    "# LGBM Regressor"
   ]
  },
  {
   "cell_type": "code",
   "execution_count": 3,
   "id": "47e6b0e7",
   "metadata": {},
   "outputs": [],
   "source": [
    "steps=[('clf',lgb.LGBMRegressor(n_jobs=7, random_state=21))]\n",
    "pipeline=Pipeline(steps)"
   ]
  },
  {
   "cell_type": "code",
   "execution_count": 4,
   "id": "03a3e1fa",
   "metadata": {},
   "outputs": [],
   "source": [
    "param_dist={'clf__n_estimators':np.arange(100,1000,50),\n",
    "            'clf__max_depth':np.arange(3,12,1),\n",
    "            'clf__num_leaves':np.arange(20,3000,50),\n",
    "            'clf__min_data_in_leaf':np.arange(100,200,50),\n",
    "            'clf__learning_rate':np.arange(0.01,3,0.05)}"
   ]
  },
  {
   "cell_type": "code",
   "execution_count": 5,
   "id": "c6100ef0",
   "metadata": {},
   "outputs": [],
   "source": [
    "mae = make_scorer(mean_absolute_error)\n",
    "mse = make_scorer(mean_squared_error)\n",
    "r2 = make_scorer(r2_score)"
   ]
  },
  {
   "cell_type": "code",
   "execution_count": 6,
   "id": "044841f9",
   "metadata": {},
   "outputs": [],
   "source": [
    "num_iteration = 300\n",
    "clf_cv = RandomizedSearchCV(pipeline, param_dist, n_iter=num_iteration, scoring=r2)"
   ]
  },
  {
   "cell_type": "code",
   "execution_count": 7,
   "id": "8b13da40",
   "metadata": {},
   "outputs": [
    {
     "data": {
      "text/plain": [
       "RandomizedSearchCV(estimator=Pipeline(steps=[('clf',\n",
       "                                              LGBMRegressor(n_jobs=7,\n",
       "                                                            random_state=21))]),\n",
       "                   n_iter=300,\n",
       "                   param_distributions={'clf__learning_rate': array([0.01, 0.06, 0.11, 0.16, 0.21, 0.26, 0.31, 0.36, 0.41, 0.46, 0.51,\n",
       "       0.56, 0.61, 0.66, 0.71, 0.76, 0.81, 0.86, 0.91, 0.96, 1.01, 1.06,\n",
       "       1.11, 1.16, 1.21, 1.26, 1.31, 1.36, 1.41, 1.46, 1.51, 1.56, 1.61,\n",
       "       1.66, 1.71, 1.76, 1.81, 1.86, 1.91,...\n",
       "       750, 800, 850, 900, 950]),\n",
       "                                        'clf__num_leaves': array([  20,   70,  120,  170,  220,  270,  320,  370,  420,  470,  520,\n",
       "        570,  620,  670,  720,  770,  820,  870,  920,  970, 1020, 1070,\n",
       "       1120, 1170, 1220, 1270, 1320, 1370, 1420, 1470, 1520, 1570, 1620,\n",
       "       1670, 1720, 1770, 1820, 1870, 1920, 1970, 2020, 2070, 2120, 2170,\n",
       "       2220, 2270, 2320, 2370, 2420, 2470, 2520, 2570, 2620, 2670, 2720,\n",
       "       2770, 2820, 2870, 2920, 2970])},\n",
       "                   scoring=make_scorer(r2_score))"
      ]
     },
     "execution_count": 7,
     "metadata": {},
     "output_type": "execute_result"
    }
   ],
   "source": [
    "%%capture --no-display\n",
    "clf_cv.fit(train_X, train_y)"
   ]
  },
  {
   "cell_type": "code",
   "execution_count": 8,
   "id": "c73c36b1",
   "metadata": {},
   "outputs": [],
   "source": [
    "train_pred = clf_cv.predict(train_X)\n",
    "test_pred = clf_cv.predict(test_X)\n",
    "val_pred = clf_cv.predict(val_X)"
   ]
  },
  {
   "cell_type": "code",
   "execution_count": 9,
   "id": "a0764655",
   "metadata": {},
   "outputs": [],
   "source": [
    "dict = {}"
   ]
  },
  {
   "cell_type": "code",
   "execution_count": 10,
   "id": "c58c8aee",
   "metadata": {},
   "outputs": [],
   "source": [
    "def performance(truedata, prediction, name=''):\n",
    "    print(name)\n",
    "    print('='*15)\n",
    "    rmse = round(mean_squared_error(truedata, prediction,  squared=False),2)\n",
    "    mae = round(mean_absolute_error(truedata, prediction),2)\n",
    "    r2 = round(r2_score(truedata, prediction),2)\n",
    "    print('rmse:', rmse)\n",
    "    print('mae: ', mae)\n",
    "    print('r2:  ', r2)\n",
    "    return rmse, mae, r2"
   ]
  },
  {
   "cell_type": "code",
   "execution_count": 11,
   "id": "6b14b10a",
   "metadata": {},
   "outputs": [
    {
     "name": "stdout",
     "output_type": "stream",
     "text": [
      "Train set\n",
      "===============\n",
      "rmse: 214.2\n",
      "mae:  87.7\n",
      "r2:   0.51\n"
     ]
    }
   ],
   "source": [
    "_ , _ , _ = performance(train_y, train_pred, 'Train set') "
   ]
  },
  {
   "cell_type": "code",
   "execution_count": 12,
   "id": "32ee30b9",
   "metadata": {},
   "outputs": [
    {
     "name": "stdout",
     "output_type": "stream",
     "text": [
      "Validation set\n",
      "===============\n",
      "rmse: 199.63\n",
      "mae:  100.58\n",
      "r2:   0.37\n"
     ]
    }
   ],
   "source": [
    "_ , _ , _ = performance(val_y, val_pred, 'Validation set') "
   ]
  },
  {
   "cell_type": "code",
   "execution_count": 13,
   "id": "debdf59f",
   "metadata": {},
   "outputs": [
    {
     "name": "stdout",
     "output_type": "stream",
     "text": [
      "Test set\n",
      "===============\n",
      "rmse: 340.98\n",
      "mae:  107.46\n",
      "r2:   0.31\n"
     ]
    }
   ],
   "source": [
    "dict['lgm'] = performance(test_y, test_pred, 'Test set') "
   ]
  },
  {
   "cell_type": "code",
   "execution_count": 14,
   "id": "1045ed4a",
   "metadata": {},
   "outputs": [
    {
     "data": {
      "text/plain": [
       "LGBMRegressor(learning_rate=0.11, max_depth=10, min_data_in_leaf=100,\n",
       "              n_estimators=450, num_leaves=720, random_state=21)"
      ]
     },
     "execution_count": 14,
     "metadata": {},
     "output_type": "execute_result"
    }
   ],
   "source": [
    "%%capture --no-display\n",
    "num_leaves = clf_cv.best_params_['clf__num_leaves']\n",
    "n_estimators = clf_cv.best_params_['clf__n_estimators']\n",
    "max_depth = clf_cv.best_params_['clf__max_depth']\n",
    "min_data_in_leaf = clf_cv.best_params_['clf__min_data_in_leaf']\n",
    "learning_rate = clf_cv.best_params_['clf__learning_rate']\n",
    "\n",
    "lgb_model = lgb.LGBMRegressor(num_leaves=num_leaves, \n",
    "                              n_estimators=n_estimators, \n",
    "                              max_depth=max_depth,\n",
    "                              min_data_in_leaf=min_data_in_leaf,\n",
    "                              learning_rate=learning_rate,\n",
    "                              random_state=21)\n",
    "\n",
    "lgb_model.fit(train_X, train_y)"
   ]
  },
  {
   "cell_type": "code",
   "execution_count": 15,
   "id": "62194dc8",
   "metadata": {},
   "outputs": [],
   "source": [
    "feature = pd.DataFrame(index=train_X.columns)\n",
    "feature['lgm feature'] = list(lgb_model.feature_importances_)"
   ]
  },
  {
   "cell_type": "markdown",
   "id": "a5d1822a",
   "metadata": {},
   "source": [
    "# XGBoost Regressor"
   ]
  },
  {
   "cell_type": "code",
   "execution_count": 16,
   "id": "62a0a7b1",
   "metadata": {},
   "outputs": [],
   "source": [
    "steps=[('clf',xgb.XGBRegressor(objective='reg:squarederror',\n",
    "                               tree_method='hist',\n",
    "                               verbosity = 0, \n",
    "                               random_state=21, \n",
    "                               nthread=7))]\n",
    "pipeline=Pipeline(steps)"
   ]
  },
  {
   "cell_type": "code",
   "execution_count": 17,
   "id": "32b48d9d",
   "metadata": {},
   "outputs": [],
   "source": [
    "param_dist={'clf__n_estimators':np.arange(100,1000,50),\n",
    "            'clf__max_depth':np.arange(3,10,1),\n",
    "            'clf__learning_rate':np.arange(0.01,0.3,0.05),\n",
    "            'clf__colsample_bytree':np.arange(0.5,1,0.1),\n",
    "            'clf__subsample':np.arange(0.6,1,0.1)\n",
    "            }"
   ]
  },
  {
   "cell_type": "code",
   "execution_count": 18,
   "id": "096fe239",
   "metadata": {},
   "outputs": [],
   "source": [
    "num_iteration = 300\n",
    "clf_cv2 = RandomizedSearchCV(pipeline, \n",
    "                             param_dist, \n",
    "                             n_iter=num_iteration, \n",
    "                             scoring=r2)"
   ]
  },
  {
   "cell_type": "code",
   "execution_count": 19,
   "id": "ae401363",
   "metadata": {},
   "outputs": [
    {
     "data": {
      "text/plain": [
       "RandomizedSearchCV(estimator=Pipeline(steps=[('clf',\n",
       "                                              XGBRegressor(base_score=None,\n",
       "                                                           booster=None,\n",
       "                                                           colsample_bylevel=None,\n",
       "                                                           colsample_bynode=None,\n",
       "                                                           colsample_bytree=None,\n",
       "                                                           enable_categorical=False,\n",
       "                                                           gamma=None,\n",
       "                                                           gpu_id=None,\n",
       "                                                           importance_type=None,\n",
       "                                                           interaction_constraints=None,\n",
       "                                                           learning_rate=None,\n",
       "                                                           max_delta_step=None,\n",
       "                                                           max_depth=None,\n",
       "                                                           min_child_weight=None,\n",
       "                                                           missing=nan,\n",
       "                                                           mon...\n",
       "                   n_iter=300,\n",
       "                   param_distributions={'clf__colsample_bytree': array([0.5, 0.6, 0.7, 0.8, 0.9]),\n",
       "                                        'clf__learning_rate': array([0.01, 0.06, 0.11, 0.16, 0.21, 0.26]),\n",
       "                                        'clf__max_depth': array([3, 4, 5, 6, 7, 8, 9]),\n",
       "                                        'clf__n_estimators': array([100, 150, 200, 250, 300, 350, 400, 450, 500, 550, 600, 650, 700,\n",
       "       750, 800, 850, 900, 950]),\n",
       "                                        'clf__subsample': array([0.6, 0.7, 0.8, 0.9])},\n",
       "                   scoring=make_scorer(r2_score))"
      ]
     },
     "execution_count": 19,
     "metadata": {},
     "output_type": "execute_result"
    }
   ],
   "source": [
    "%%capture --no-display\n",
    "clf_cv2.fit(train_X, train_y)"
   ]
  },
  {
   "cell_type": "code",
   "execution_count": 20,
   "id": "e5f3fe3f",
   "metadata": {},
   "outputs": [],
   "source": [
    "train_pred = clf_cv2.predict(train_X)\n",
    "test_pred = clf_cv2.predict(test_X)\n",
    "val_pred = clf_cv2.predict(val_X)"
   ]
  },
  {
   "cell_type": "code",
   "execution_count": 21,
   "id": "0f8747b1",
   "metadata": {},
   "outputs": [
    {
     "name": "stdout",
     "output_type": "stream",
     "text": [
      "Train set\n",
      "===============\n",
      "rmse: 69.24\n",
      "mae:  46.32\n",
      "r2:   0.95\n"
     ]
    }
   ],
   "source": [
    "_ , _ , _ = performance(train_y, train_pred, 'Train set') "
   ]
  },
  {
   "cell_type": "code",
   "execution_count": 22,
   "id": "c988dc9b",
   "metadata": {},
   "outputs": [
    {
     "name": "stdout",
     "output_type": "stream",
     "text": [
      "Validation set\n",
      "===============\n",
      "rmse: 201.46\n",
      "mae:  94.91\n",
      "r2:   0.36\n"
     ]
    }
   ],
   "source": [
    "_ , _ , _ = performance(val_y, val_pred, 'Validation set') "
   ]
  },
  {
   "cell_type": "code",
   "execution_count": 23,
   "id": "edb0737c",
   "metadata": {},
   "outputs": [
    {
     "name": "stdout",
     "output_type": "stream",
     "text": [
      "Test set\n",
      "===============\n",
      "rmse: 285.4\n",
      "mae:  98.47\n",
      "r2:   0.51\n"
     ]
    }
   ],
   "source": [
    "dict['xgb'] = performance(test_y, test_pred, 'Test set') "
   ]
  },
  {
   "cell_type": "code",
   "execution_count": 24,
   "id": "83472b6a",
   "metadata": {},
   "outputs": [
    {
     "data": {
      "text/plain": [
       "XGBRegressor(base_score=0.5, booster='gbtree', colsample_bylevel=1,\n",
       "             colsample_bynode=1, colsample_bytree=0.5, enable_categorical=False,\n",
       "             gamma=0, gpu_id=-1, importance_type=None,\n",
       "             interaction_constraints='', learning_rate=0.060000000000000005,\n",
       "             max_delta_step=0, max_depth=8, min_child_weight=1, missing=nan,\n",
       "             monotone_constraints='()', n_estimators=850, n_jobs=8,\n",
       "             num_parallel_tree=1, predictor='auto', random_state=21,\n",
       "             reg_alpha=0, reg_lambda=1, scale_pos_weight=1,\n",
       "             subsample=0.7999999999999999, tree_method='exact',\n",
       "             validate_parameters=1, verbosity=None)"
      ]
     },
     "execution_count": 24,
     "metadata": {},
     "output_type": "execute_result"
    }
   ],
   "source": [
    "%%capture --no-display\n",
    "n_estimators = clf_cv2.best_params_['clf__n_estimators']\n",
    "max_depth = clf_cv2.best_params_['clf__max_depth']\n",
    "learning_rate = clf_cv2.best_params_['clf__learning_rate']\n",
    "colsample_bytree = clf_cv2.best_params_['clf__colsample_bytree']\n",
    "subsample = clf_cv2.best_params_['clf__subsample']\n",
    "\n",
    "xgb_model = xgb.XGBRegressor(n_estimators=n_estimators, \n",
    "                             max_depth=max_depth, \n",
    "                             learning_rate=learning_rate,\n",
    "                             colsample_bytree=colsample_bytree,\n",
    "                             subsample=subsample,\n",
    "                             random_state=21)\n",
    "\n",
    "xgb_model.fit(train_X, train_y)"
   ]
  },
  {
   "cell_type": "code",
   "execution_count": 25,
   "id": "ea969e80",
   "metadata": {},
   "outputs": [],
   "source": [
    "feature['xgb feature'] = list(xgb_model.feature_importances_)"
   ]
  },
  {
   "cell_type": "markdown",
   "id": "bcaceaad",
   "metadata": {},
   "source": [
    "# Performance"
   ]
  },
  {
   "cell_type": "code",
   "execution_count": 26,
   "id": "1260e637",
   "metadata": {},
   "outputs": [],
   "source": [
    "result = pd.DataFrame.from_dict(dict)\n",
    "result.index = ['rmse', 'mae', 'r2']"
   ]
  },
  {
   "cell_type": "code",
   "execution_count": 27,
   "id": "8cc75d50",
   "metadata": {},
   "outputs": [
    {
     "data": {
      "text/html": [
       "<div>\n",
       "<style scoped>\n",
       "    .dataframe tbody tr th:only-of-type {\n",
       "        vertical-align: middle;\n",
       "    }\n",
       "\n",
       "    .dataframe tbody tr th {\n",
       "        vertical-align: top;\n",
       "    }\n",
       "\n",
       "    .dataframe thead th {\n",
       "        text-align: right;\n",
       "    }\n",
       "</style>\n",
       "<table border=\"1\" class=\"dataframe\">\n",
       "  <thead>\n",
       "    <tr style=\"text-align: right;\">\n",
       "      <th></th>\n",
       "      <th>lgm</th>\n",
       "      <th>xgb</th>\n",
       "    </tr>\n",
       "  </thead>\n",
       "  <tbody>\n",
       "    <tr>\n",
       "      <th>rmse</th>\n",
       "      <td>340.98</td>\n",
       "      <td>285.40</td>\n",
       "    </tr>\n",
       "    <tr>\n",
       "      <th>mae</th>\n",
       "      <td>107.46</td>\n",
       "      <td>98.47</td>\n",
       "    </tr>\n",
       "    <tr>\n",
       "      <th>r2</th>\n",
       "      <td>0.31</td>\n",
       "      <td>0.51</td>\n",
       "    </tr>\n",
       "  </tbody>\n",
       "</table>\n",
       "</div>"
      ],
      "text/plain": [
       "         lgm     xgb\n",
       "rmse  340.98  285.40\n",
       "mae   107.46   98.47\n",
       "r2      0.31    0.51"
      ]
     },
     "execution_count": 27,
     "metadata": {},
     "output_type": "execute_result"
    }
   ],
   "source": [
    "result"
   ]
  },
  {
   "cell_type": "markdown",
   "id": "2ee337f2",
   "metadata": {},
   "source": [
    "# Feature Importance"
   ]
  },
  {
   "cell_type": "markdown",
   "id": "775feb07",
   "metadata": {},
   "source": [
    "LightGBM"
   ]
  },
  {
   "cell_type": "code",
   "execution_count": 28,
   "id": "f97c7d3c",
   "metadata": {},
   "outputs": [
    {
     "data": {
      "text/plain": [
       "hashname_29                           459\n",
       "hashneigh_0                           414\n",
       "hashname_76                           382\n",
       "x * y                                 376\n",
       "hashname_91                           368\n",
       "hashname_5                            335\n",
       "hashname_54                           319\n",
       "minimum_nights * number_of_reviews    256\n",
       "availability_365                      251\n",
       "duration * availability_365           226\n",
       "Name: lgm feature, dtype: int64"
      ]
     },
     "execution_count": 28,
     "metadata": {},
     "output_type": "execute_result"
    }
   ],
   "source": [
    "feature.nlargest(10, 'lgm feature')['lgm feature']"
   ]
  },
  {
   "cell_type": "markdown",
   "id": "f257caf1",
   "metadata": {},
   "source": [
    "XGBoost"
   ]
  },
  {
   "cell_type": "code",
   "execution_count": 29,
   "id": "0dc41b65",
   "metadata": {},
   "outputs": [
    {
     "data": {
      "text/plain": [
       "hashname_29                                0.033512\n",
       "hashneigh_0                                0.031696\n",
       "hashname_13                                0.028767\n",
       "room_type_Private room                     0.026555\n",
       "neighbourhood_group_City of Los Angeles    0.020427\n",
       "city_Portland                              0.018700\n",
       "room_type_Shared room                      0.018186\n",
       "x * z                                      0.016924\n",
       "hashname_53                                0.014965\n",
       "hashneigh_9                                0.014454\n",
       "Name: xgb feature, dtype: float64"
      ]
     },
     "execution_count": 29,
     "metadata": {},
     "output_type": "execute_result"
    }
   ],
   "source": [
    "feature.nlargest(10, 'xgb feature')['xgb feature']"
   ]
  },
  {
   "cell_type": "markdown",
   "id": "34334299",
   "metadata": {},
   "source": [
    "# Summary"
   ]
  },
  {
   "cell_type": "markdown",
   "id": "545675c0",
   "metadata": {},
   "source": [
    "<li> Xgboost model gives a higher R^2.\n",
    "<li> From the models, the description of name, neighbourhood and the room type are useful factors related to the price."
   ]
  }
 ],
 "metadata": {
  "kernelspec": {
   "display_name": "Python 3 (ipykernel)",
   "language": "python",
   "name": "python3"
  },
  "language_info": {
   "codemirror_mode": {
    "name": "ipython",
    "version": 3
   },
   "file_extension": ".py",
   "mimetype": "text/x-python",
   "name": "python",
   "nbconvert_exporter": "python",
   "pygments_lexer": "ipython3",
   "version": "3.7.9"
  }
 },
 "nbformat": 4,
 "nbformat_minor": 5
}
